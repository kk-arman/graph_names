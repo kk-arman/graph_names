{
 "cells": [
  {
   "cell_type": "markdown",
   "metadata": {},
   "source": [
    "### General imports"
   ]
  },
  {
   "cell_type": "code",
   "execution_count": 1,
   "metadata": {},
   "outputs": [],
   "source": [
    "from pathlib import Path\n",
    "import stanza\n",
    "\n",
    "import sys\n",
    "sys.path.insert(1, '../../src/data/scripts_for_filtration/')"
   ]
  },
  {
   "cell_type": "markdown",
   "metadata": {},
   "source": [
    "### 2. Create Path "
   ]
  },
  {
   "cell_type": "markdown",
   "metadata": {},
   "source": [
    "## Building"
   ]
  },
  {
   "cell_type": "markdown",
   "metadata": {},
   "source": [
    "## Get good methods"
   ]
  },
  {
   "cell_type": "markdown",
   "metadata": {},
   "source": [
    "### 1. Import get_good_methods from filter_repo.py"
   ]
  },
  {
   "cell_type": "code",
   "execution_count": 2,
   "metadata": {},
   "outputs": [],
   "source": [
    "from filter_repo import get_good_methods"
   ]
  },
  {
   "cell_type": "code",
   "execution_count": 3,
   "metadata": {},
   "outputs": [],
   "source": [
    "path = Path('../../data/legacy/junit_unpacked/intuit-karate-2b45168/')"
   ]
  },
  {
   "cell_type": "markdown",
   "metadata": {},
   "source": [
    "### 3. Create stanza pos tagger"
   ]
  },
  {
   "cell_type": "code",
   "execution_count": 4,
   "metadata": {},
   "outputs": [
    {
     "name": "stderr",
     "output_type": "stream",
     "text": [
      "2020-11-23 15:05:55 INFO: Loading these models for language: en (English):\n",
      "=======================\n",
      "| Processor | Package |\n",
      "-----------------------\n",
      "| tokenize  | ewt     |\n",
      "| pos       | ewt     |\n",
      "=======================\n",
      "\n",
      "INFO:stanza:Loading these models for language: en (English):\n",
      "=======================\n",
      "| Processor | Package |\n",
      "-----------------------\n",
      "| tokenize  | ewt     |\n",
      "| pos       | ewt     |\n",
      "=======================\n",
      "\n",
      "2020-11-23 15:05:55 INFO: Use device: gpu\n",
      "INFO:stanza:Use device: gpu\n",
      "2020-11-23 15:05:55 INFO: Loading: tokenize\n",
      "INFO:stanza:Loading: tokenize\n",
      "2020-11-23 15:05:57 INFO: Loading: pos\n",
      "INFO:stanza:Loading: pos\n",
      "2020-11-23 15:05:58 INFO: Done loading processors!\n",
      "INFO:stanza:Done loading processors!\n"
     ]
    }
   ],
   "source": [
    "nlp_pos = stanza.Pipeline('en', processors='tokenize,pos', use_gpu = True)"
   ]
  },
  {
   "cell_type": "markdown",
   "metadata": {},
   "source": [
    "### 4. Get good methods"
   ]
  },
  {
   "cell_type": "code",
   "execution_count": 5,
   "metadata": {},
   "outputs": [
    {
     "name": "stderr",
     "output_type": "stream",
     "text": [
      "WARNING:root:intuit-karate-2b45168->PaymentService.java: <class 'javalang.parser.JavaSyntaxError'>\n",
      "WARNING:root:intuit-karate-2b45168->FeatureServer.java: <class 'javalang.parser.JavaSyntaxError'>\n",
      "100%|██████████| 622/622 [00:07<00:00, 81.11it/s] \n"
     ]
    }
   ],
   "source": [
    "good_methods = get_good_methods(path, nlp_pos)"
   ]
  },
  {
   "cell_type": "code",
   "execution_count": 6,
   "metadata": {},
   "outputs": [
    {
     "name": "stdout",
     "output_type": "stream",
     "text": [
      "29 good methods in intuit-karate-2b45168\n"
     ]
    }
   ],
   "source": [
    "print(f\"{sum([ len(x) for x in good_methods.values()])} good methods in {path.stem}\")"
   ]
  },
  {
   "cell_type": "markdown",
   "metadata": {},
   "source": [
    "You have a dictionary like **filename: [method_name1, method_name2, ...]**\n",
    "\n",
    "Overloads could be met, nothing is done with it"
   ]
  },
  {
   "cell_type": "code",
   "execution_count": 7,
   "metadata": {},
   "outputs": [
    {
     "name": "stdout",
     "output_type": "stream",
     "text": [
      "Filename: ../../data/legacy/junit_unpacked/intuit-karate-2b45168/karate-demo/src/test/java/demo/cats/CatsJava.java \n",
      "\tMethod names: (['testMatchingUsingPojos'])\n",
      "Filename: ../../data/legacy/junit_unpacked/intuit-karate-2b45168/karate-junit4/src/test/java/com/intuit/karate/junit4/files/JarLoadingTest.java \n",
      "\tMethod names: (['testUsingKarateBase'])\n",
      "Filename: ../../data/legacy/junit_unpacked/intuit-karate-2b45168/karate-core/src/test/java/com/intuit/karate/JsonUtilsTest.java \n",
      "\tMethod names: (['testSetByPath'])\n",
      "Filename: ../../data/legacy/junit_unpacked/intuit-karate-2b45168/karate-core/src/test/java/com/intuit/karate/XmlUtilsTest.java \n",
      "\tMethod names: (['testConvertingToMap', 'testCreateElement'])\n",
      "Filename: ../../data/legacy/junit_unpacked/intuit-karate-2b45168/karate-core/src/test/java/com/intuit/karate/FileUtilsTest.java \n",
      "\tMethod names: (['testRemovePrefix', 'testRenameZeroLengthFile', 'testGetClasspathAbsolute', 'testUsingKarateBase', 'testUsingBadPath'])\n",
      "Filename: ../../data/legacy/junit_unpacked/intuit-karate-2b45168/karate-core/src/test/java/com/intuit/karate/ScriptTest.java \n",
      "\tMethod names: (['testMatchPrimitiveStrings', 'testEvalXmlEmbeddedExpressions', 'testEvalJsonEmbeddedExpressions', 'testEvalEmbeddedOptionalExpressions', 'testEvalEmbeddedExpressionStream', 'testMatchMapObjects', 'testMatchXmlRepeatedElements', 'testMatchMacroArray', 'testMatchMacroArrayComplex'])\n",
      "Filename: ../../data/legacy/junit_unpacked/intuit-karate-2b45168/karate-core/src/test/java/com/intuit/karate/core/FeatureResultTest.java \n",
      "\tMethod names: (['testAbortMultiScenarioFeature'])\n",
      "Filename: ../../data/legacy/junit_unpacked/intuit-karate-2b45168/karate-core/src/test/java/com/intuit/karate/core/FeatureParserTest.java \n",
      "\tMethod names: (['testSetTable'])\n",
      "Filename: ../../data/legacy/junit_unpacked/intuit-karate-2b45168/karate-core/src/test/java/com/intuit/karate/http/HttpUtilsTest.java \n",
      "\tMethod names: (['testParseContentTypeCharset', 'testParseContentTypeParams', 'testParseUriPathPatterns', 'testCalculatePathMatchScore', 'testParseCookieString', 'testCreateCookieString'])\n",
      "Filename: ../../data/legacy/junit_unpacked/intuit-karate-2b45168/karate-core/src/test/java/com/intuit/karate/http/HttpRequestBuilderTest.java \n",
      "\tMethod names: (['testRemoveHeaderIgnoreCase'])\n",
      "Filename: ../../data/legacy/junit_unpacked/intuit-karate-2b45168/karate-core/src/test/java/com/intuit/karate/http/HttpClientTest.java \n",
      "\tMethod names: (['testSwappingHttpClient'])\n"
     ]
    }
   ],
   "source": [
    "for file, names in good_methods.items(): \n",
    "    print(\"Filename: {} \\n\\tMethod names: ({})\".format(file, names))"
   ]
  }
 ],
 "metadata": {
  "kernelspec": {
   "display_name": "Python 3",
   "language": "python",
   "name": "python3"
  },
  "language_info": {
   "codemirror_mode": {
    "name": "ipython",
    "version": 3
   },
   "file_extension": ".py",
   "mimetype": "text/x-python",
   "name": "python",
   "nbconvert_exporter": "python",
   "pygments_lexer": "ipython3",
   "version": "3.7.7"
  }
 },
 "nbformat": 4,
 "nbformat_minor": 4
}
